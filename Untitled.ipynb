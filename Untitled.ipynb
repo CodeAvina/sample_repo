{
 "cells": [
  {
   "cell_type": "code",
   "execution_count": 2,
   "id": "545db639",
   "metadata": {},
   "outputs": [],
   "source": [
    "%load_ext sql"
   ]
  },
  {
   "cell_type": "code",
   "execution_count": 3,
   "id": "4807adf8",
   "metadata": {},
   "outputs": [],
   "source": [
    "%sql sqlite:///new1_db.db"
   ]
  },
  {
   "cell_type": "code",
   "execution_count": 23,
   "id": "a4eae8dc",
   "metadata": {},
   "outputs": [
    {
     "name": "stdout",
     "output_type": "stream",
     "text": [
      " * sqlite:///new1_db.db\n",
      "(sqlite3.OperationalError) database is locked\n",
      "[SQL: DROP TABLE IF EXISTS ChicagoCensusData;]\n",
      "(Background on this error at: https://sqlalche.me/e/14/e3q8)\n"
     ]
    }
   ],
   "source": [
    "%%sql\n",
    "\n",
    "DROP TABLE IF EXISTS ChicagoCensusData;\n",
    "DROP TABLE IF EXISTS ChicagoCrimeData;\n",
    "DROP TABLE IF EXISTS ChicagoPublicSchools;\n",
    "\n",
    "CREATE TABLE ChicagoCensusData ( \n",
    "    COMMUNITY_AREA_NUMBER                            REAL    PRIMARY KEY,\n",
    "    COMMUNITY_AREA_NAME                              VARCHAR,\n",
    "    PERCENT_OF_HOUSING_CROWDED                       REAL,\n",
    "    PERCENT_HOUSEHOLDS_BELOW_POVERTY                 REAL,\n",
    "    PERCENT_AGED_16_UNEMPLOYED                       REAL,\n",
    "    PERCENT_AGED_25_WITHOUT_HIGH_SCHOOL_DIPLOMA      REAL,\n",
    "    PERCENT_AGED_UNDER_18_OR_OVER_64                 REAL,\n",
    "    PER_CAPITA_INCOME                                INTEGER,\n",
    "    HARDSHIP_INDEX                                   INTEGER,\n",
    ");\n",
    "\n",
    "CREATE TABLE ChicagoCrimeData (\n",
    "    ID                 REAL,  \n",
    "    CASE_NUMBER        VARCHAR\n",
    ");"
   ]
  },
  {
   "cell_type": "code",
   "execution_count": 24,
   "id": "955eec7d",
   "metadata": {},
   "outputs": [
    {
     "name": "stdout",
     "output_type": "stream",
     "text": [
      " * sqlite:///new1_db.db\n",
      "Done.\n"
     ]
    },
    {
     "data": {
      "text/html": [
       "<table>\n",
       "    <tr>\n",
       "        <th>ID</th>\n",
       "        <th>CASE_NUMBER</th>\n",
       "    </tr>\n",
       "</table>"
      ],
      "text/plain": [
       "[]"
      ]
     },
     "execution_count": 24,
     "metadata": {},
     "output_type": "execute_result"
    }
   ],
   "source": [
    "%%sql\n",
    "SELECT * FROM ChicagoCrimeData;"
   ]
  },
  {
   "cell_type": "code",
   "execution_count": 25,
   "id": "18f73861",
   "metadata": {},
   "outputs": [
    {
     "ename": "IntegrityError",
     "evalue": "datatype mismatch",
     "output_type": "error",
     "traceback": [
      "\u001b[1;31m---------------------------------------------------------------------------\u001b[0m",
      "\u001b[1;31mIntegrityError\u001b[0m                            Traceback (most recent call last)",
      "Input \u001b[1;32mIn [25]\u001b[0m, in \u001b[0;36m<cell line: 28>\u001b[1;34m()\u001b[0m\n\u001b[0;32m     24\u001b[0m insert_records2 \u001b[38;5;241m=\u001b[39m \u001b[38;5;124m\"\u001b[39m\u001b[38;5;124mINSERT INTO ChicagoCrimeData (ID,CASE_NUMBER) VALUES(?, ?,)\u001b[39m\u001b[38;5;124m\"\u001b[39m\n\u001b[0;32m     26\u001b[0m \u001b[38;5;66;03m# Importing the contents of the file\u001b[39;00m\n\u001b[0;32m     27\u001b[0m \u001b[38;5;66;03m# into our person table\u001b[39;00m\n\u001b[1;32m---> 28\u001b[0m \u001b[43mcursor\u001b[49m\u001b[38;5;241;43m.\u001b[39;49m\u001b[43mexecutemany\u001b[49m\u001b[43m(\u001b[49m\u001b[43minsert_records1\u001b[49m\u001b[43m,\u001b[49m\u001b[43m \u001b[49m\u001b[43mcontents1\u001b[49m\u001b[43m)\u001b[49m\n\u001b[0;32m     29\u001b[0m cursor\u001b[38;5;241m.\u001b[39mexecutemany(insert_records2, contents2)\n\u001b[0;32m     31\u001b[0m \u001b[38;5;66;03m# Committing the changes\u001b[39;00m\n",
      "\u001b[1;31mIntegrityError\u001b[0m: datatype mismatch"
     ]
    }
   ],
   "source": [
    "# Import required modules\n",
    "import csv\n",
    "import sqlite3\n",
    "\n",
    "# Connecting to the geeks database\n",
    "connection = sqlite3.connect('new1_db.db')\n",
    "\n",
    "# Creating a cursor object to execute\n",
    "# SQL queries on a database table\n",
    "cursor = connection.cursor()\n",
    "\n",
    "# Opening the person-records.csv file\n",
    "file1 = open('ChicagoCensusData.csv')\n",
    "file2 = open('ChicagoCrimeData.csv')\n",
    "\n",
    "# Reading the contents of the\n",
    "# person-records.csv file\n",
    "contents1 = csv.reader(file1)\n",
    "contents2 = csv.reader(file2)\n",
    "\n",
    "# SQL query to insert data into the\n",
    "# person table\n",
    "insert_records1 = \"INSERT INTO ChicagoCensusData (COMMUNITY_AREA_NUMBER,COMMUNITY_AREA_NAME,PERCENT_OF_HOUSING_CROWDED,PERCENT_HOUSEHOLDS_BELOW_POVERTY,PERCENT_AGED_16_UNEMPLOYED,PERCENT_AGED_25_WITHOUT_HIGH_SCHOOL_DIPLOMA,PERCENT_AGED_UNDER_18_OR_OVER_64,PER_CAPITA_INCOME,HARDSHIP_INDEX) VALUES(?, ?, ?, ?, ?, ?, ?, ?, ?)\"\n",
    "insert_records2 = \"INSERT INTO ChicagoCrimeData (ID,CASE_NUMBER) VALUES(?, ?,)\"\n",
    "\n",
    "# Importing the contents of the file\n",
    "# into our person table\n",
    "cursor.executemany(insert_records1, contents1)\n",
    "cursor.executemany(insert_records2, contents2)\n",
    "\n",
    "# Committing the changes\n",
    "connection.commit()\n",
    "\n",
    "# closing the database connection\n",
    "connection.close()"
   ]
  },
  {
   "cell_type": "code",
   "execution_count": 26,
   "id": "501d81d3",
   "metadata": {},
   "outputs": [
    {
     "name": "stdout",
     "output_type": "stream",
     "text": [
      " * sqlite:///new1_db.db\n",
      "Done.\n"
     ]
    },
    {
     "data": {
      "text/html": [
       "<table>\n",
       "    <tr>\n",
       "        <th>COMMUNITY_AREA_NUMBER</th>\n",
       "        <th>COMMUNITY_AREA_NAME</th>\n",
       "        <th>PERCENT_OF_HOUSING_CROWDED</th>\n",
       "        <th>PERCENT_HOUSEHOLDS_BELOW_POVERTY</th>\n",
       "        <th>PERCENT_AGED_16_UNEMPLOYED</th>\n",
       "        <th>PERCENT_AGED_25_WITHOUT_HIGH_SCHOOL_DIPLOMA</th>\n",
       "        <th>PERCENT_AGED_UNDER_18_OR_OVER_64</th>\n",
       "        <th>PER_CAPITA_INCOME</th>\n",
       "        <th>HARDSHIP_INDEX</th>\n",
       "    </tr>\n",
       "</table>"
      ],
      "text/plain": [
       "[]"
      ]
     },
     "execution_count": 26,
     "metadata": {},
     "output_type": "execute_result"
    }
   ],
   "source": [
    "%%sql\n",
    "SELECT * FROM ChicagoCensusData;"
   ]
  },
  {
   "cell_type": "code",
   "execution_count": null,
   "id": "50b8bd22",
   "metadata": {},
   "outputs": [],
   "source": []
  }
 ],
 "metadata": {
  "kernelspec": {
   "display_name": "Python 3 (ipykernel)",
   "language": "python",
   "name": "python3"
  },
  "language_info": {
   "codemirror_mode": {
    "name": "ipython",
    "version": 3
   },
   "file_extension": ".py",
   "mimetype": "text/x-python",
   "name": "python",
   "nbconvert_exporter": "python",
   "pygments_lexer": "ipython3",
   "version": "3.9.12"
  }
 },
 "nbformat": 4,
 "nbformat_minor": 5
}
